{
 "cells": [
  {
   "cell_type": "markdown",
   "id": "3f9fce93-bf98-47e6-a817-ce68cd9644cd",
   "metadata": {},
   "source": [
    "<h1>Exercises/ Exercícios</h1>"
   ]
  },
  {
   "cell_type": "markdown",
   "id": "eb167258-764a-4636-9c55-0ae25fdd2232",
   "metadata": {},
   "source": [
    "<p>Analise o banco de dados de um supermercado e responda as perguntas a seguir.</p>\n",
    "<p>Analyze the database of a supermarket and answer the following questions.</p>"
   ]
  },
  {
   "cell_type": "code",
   "execution_count": 2,
   "id": "31cd35a6-4cdf-4494-b454-8e3430a74b33",
   "metadata": {},
   "outputs": [],
   "source": [
    "#Command required to use the pandas library\n",
    "import pandas as pd"
   ]
  },
  {
   "cell_type": "code",
   "execution_count": 7,
   "id": "1ee4d995-51d7-4d39-86b5-4770dcee43d9",
   "metadata": {},
   "outputs": [],
   "source": [
    "# Loading a .csv file into a variable with Pandas.\n",
    "df_data = pd.read_csv(\"supermarket_sales.csv\")"
   ]
  },
  {
   "cell_type": "code",
   "execution_count": 8,
   "id": "abf1715c-c07e-44e0-88db-5b209e0b4fe4",
   "metadata": {},
   "outputs": [
    {
     "data": {
      "text/html": [
       "<div>\n",
       "<style scoped>\n",
       "    .dataframe tbody tr th:only-of-type {\n",
       "        vertical-align: middle;\n",
       "    }\n",
       "\n",
       "    .dataframe tbody tr th {\n",
       "        vertical-align: top;\n",
       "    }\n",
       "\n",
       "    .dataframe thead th {\n",
       "        text-align: right;\n",
       "    }\n",
       "</style>\n",
       "<table border=\"1\" class=\"dataframe\">\n",
       "  <thead>\n",
       "    <tr style=\"text-align: right;\">\n",
       "      <th></th>\n",
       "      <th>Invoice ID</th>\n",
       "      <th>Branch</th>\n",
       "      <th>City</th>\n",
       "      <th>Customer type</th>\n",
       "      <th>Gender</th>\n",
       "      <th>Product line</th>\n",
       "      <th>Unit price</th>\n",
       "      <th>Quantity</th>\n",
       "      <th>Tax 5%</th>\n",
       "      <th>Total</th>\n",
       "      <th>Date</th>\n",
       "      <th>Time</th>\n",
       "      <th>Payment</th>\n",
       "      <th>cogs</th>\n",
       "      <th>gross margin percentage</th>\n",
       "      <th>gross income</th>\n",
       "      <th>Rating</th>\n",
       "    </tr>\n",
       "  </thead>\n",
       "  <tbody>\n",
       "    <tr>\n",
       "      <th>0</th>\n",
       "      <td>750-67-8428</td>\n",
       "      <td>A</td>\n",
       "      <td>Yangon</td>\n",
       "      <td>Member</td>\n",
       "      <td>Female</td>\n",
       "      <td>Health and beauty</td>\n",
       "      <td>74.69</td>\n",
       "      <td>7</td>\n",
       "      <td>26.1415</td>\n",
       "      <td>548.9715</td>\n",
       "      <td>1/5/2019</td>\n",
       "      <td>13:08</td>\n",
       "      <td>Ewallet</td>\n",
       "      <td>522.83</td>\n",
       "      <td>4.761905</td>\n",
       "      <td>26.1415</td>\n",
       "      <td>9.1</td>\n",
       "    </tr>\n",
       "    <tr>\n",
       "      <th>1</th>\n",
       "      <td>226-31-3081</td>\n",
       "      <td>C</td>\n",
       "      <td>Naypyitaw</td>\n",
       "      <td>Normal</td>\n",
       "      <td>Female</td>\n",
       "      <td>Electronic accessories</td>\n",
       "      <td>15.28</td>\n",
       "      <td>5</td>\n",
       "      <td>3.8200</td>\n",
       "      <td>80.2200</td>\n",
       "      <td>3/8/2019</td>\n",
       "      <td>10:29</td>\n",
       "      <td>Cash</td>\n",
       "      <td>76.40</td>\n",
       "      <td>4.761905</td>\n",
       "      <td>3.8200</td>\n",
       "      <td>9.6</td>\n",
       "    </tr>\n",
       "    <tr>\n",
       "      <th>2</th>\n",
       "      <td>631-41-3108</td>\n",
       "      <td>A</td>\n",
       "      <td>Yangon</td>\n",
       "      <td>Normal</td>\n",
       "      <td>Male</td>\n",
       "      <td>Home and lifestyle</td>\n",
       "      <td>46.33</td>\n",
       "      <td>7</td>\n",
       "      <td>16.2155</td>\n",
       "      <td>340.5255</td>\n",
       "      <td>3/3/2019</td>\n",
       "      <td>13:23</td>\n",
       "      <td>Credit card</td>\n",
       "      <td>324.31</td>\n",
       "      <td>4.761905</td>\n",
       "      <td>16.2155</td>\n",
       "      <td>7.4</td>\n",
       "    </tr>\n",
       "    <tr>\n",
       "      <th>3</th>\n",
       "      <td>123-19-1176</td>\n",
       "      <td>A</td>\n",
       "      <td>Yangon</td>\n",
       "      <td>Member</td>\n",
       "      <td>Male</td>\n",
       "      <td>Health and beauty</td>\n",
       "      <td>58.22</td>\n",
       "      <td>8</td>\n",
       "      <td>23.2880</td>\n",
       "      <td>489.0480</td>\n",
       "      <td>1/27/2019</td>\n",
       "      <td>20:33</td>\n",
       "      <td>Ewallet</td>\n",
       "      <td>465.76</td>\n",
       "      <td>4.761905</td>\n",
       "      <td>23.2880</td>\n",
       "      <td>8.4</td>\n",
       "    </tr>\n",
       "    <tr>\n",
       "      <th>4</th>\n",
       "      <td>373-73-7910</td>\n",
       "      <td>A</td>\n",
       "      <td>Yangon</td>\n",
       "      <td>Normal</td>\n",
       "      <td>Male</td>\n",
       "      <td>Sports and travel</td>\n",
       "      <td>86.31</td>\n",
       "      <td>7</td>\n",
       "      <td>30.2085</td>\n",
       "      <td>634.3785</td>\n",
       "      <td>2/8/2019</td>\n",
       "      <td>10:37</td>\n",
       "      <td>Ewallet</td>\n",
       "      <td>604.17</td>\n",
       "      <td>4.761905</td>\n",
       "      <td>30.2085</td>\n",
       "      <td>5.3</td>\n",
       "    </tr>\n",
       "  </tbody>\n",
       "</table>\n",
       "</div>"
      ],
      "text/plain": [
       "    Invoice ID Branch       City Customer type  Gender  \\\n",
       "0  750-67-8428      A     Yangon        Member  Female   \n",
       "1  226-31-3081      C  Naypyitaw        Normal  Female   \n",
       "2  631-41-3108      A     Yangon        Normal    Male   \n",
       "3  123-19-1176      A     Yangon        Member    Male   \n",
       "4  373-73-7910      A     Yangon        Normal    Male   \n",
       "\n",
       "             Product line  Unit price  Quantity   Tax 5%     Total       Date  \\\n",
       "0       Health and beauty       74.69         7  26.1415  548.9715   1/5/2019   \n",
       "1  Electronic accessories       15.28         5   3.8200   80.2200   3/8/2019   \n",
       "2      Home and lifestyle       46.33         7  16.2155  340.5255   3/3/2019   \n",
       "3       Health and beauty       58.22         8  23.2880  489.0480  1/27/2019   \n",
       "4       Sports and travel       86.31         7  30.2085  634.3785   2/8/2019   \n",
       "\n",
       "    Time      Payment    cogs  gross margin percentage  gross income  Rating  \n",
       "0  13:08      Ewallet  522.83                 4.761905       26.1415     9.1  \n",
       "1  10:29         Cash   76.40                 4.761905        3.8200     9.6  \n",
       "2  13:23  Credit card  324.31                 4.761905       16.2155     7.4  \n",
       "3  20:33      Ewallet  465.76                 4.761905       23.2880     8.4  \n",
       "4  10:37      Ewallet  604.17                 4.761905       30.2085     5.3  "
      ]
     },
     "execution_count": 8,
     "metadata": {},
     "output_type": "execute_result"
    }
   ],
   "source": [
    "# Shows the first lines of the file.\n",
    "df_data.head()"
   ]
  },
  {
   "cell_type": "markdown",
   "id": "36ab91d2-52cd-44b1-b9b3-5249334a1449",
   "metadata": {},
   "source": [
    "<h3>1. What is the total revenue per branch?/ Qual o faturamento total por filial?</h3>"
   ]
  },
  {
   "cell_type": "code",
   "execution_count": 49,
   "id": "68942e08-f6c7-4a83-aa38-3ed6703d2a3d",
   "metadata": {},
   "outputs": [
    {
     "data": {
      "text/plain": [
       "Branch\n",
       "A    106200.3705\n",
       "B    106197.6720\n",
       "C    110568.7065\n",
       "Name: Total, dtype: float64"
      ]
     },
     "execution_count": 49,
     "metadata": {},
     "output_type": "execute_result"
    }
   ],
   "source": [
    "df_data.groupby(\"Branch\")[\"Total\"].sum()"
   ]
  },
  {
   "cell_type": "markdown",
   "id": "23cba754-d2c3-48bd-8dbc-b93d80fb4a23",
   "metadata": {},
   "source": [
    "<h3>2. What is the percentage of revenue contribution for each product type?/ Qual o percentual de participação na receita de cada tipo de produto?</h3>"
   ]
  },
  {
   "cell_type": "code",
   "execution_count": 19,
   "id": "b4eed490-b8bb-416a-a511-0693a36d7fbd",
   "metadata": {},
   "outputs": [
    {
     "data": {
      "text/plain": [
       "Product line\n",
       "Health and beauty         15.231828\n",
       "Home and lifestyle        16.677232\n",
       "Fashion accessories       16.814702\n",
       "Electronic accessories    16.824497\n",
       "Sports and travel         17.067648\n",
       "Food and beverages        17.384094\n",
       "Name: Total, dtype: float64"
      ]
     },
     "execution_count": 19,
     "metadata": {},
     "output_type": "execute_result"
    }
   ],
   "source": [
    "# The total value of each product, divided by the total revenue. The sort_values to sort from lowest to highest\n",
    "# The multiplication by 100 to move the decimal point\n",
    "(df_data.groupby(\"Product line\")[\"Total\"].sum() / df_data.groupby(\"Product line\")[\"Total\"].sum().sum()).sort_values()*100"
   ]
  },
  {
   "cell_type": "markdown",
   "id": "586f490f-6b7d-4574-aebf-23df8e612669",
   "metadata": {},
   "source": [
    "<h3>3. How is the distribution of product type consumed by gender (Female/Male)?/ Como está distribuído o tipo de produto consumido por gênero (Feminino/Masculino)?</h3>"
   ]
  },
  {
   "cell_type": "code",
   "execution_count": 30,
   "id": "606701ed-ff6c-47b7-bfd3-b034ca8f3e97",
   "metadata": {},
   "outputs": [
    {
     "data": {
      "text/html": [
       "<div>\n",
       "<style scoped>\n",
       "    .dataframe tbody tr th:only-of-type {\n",
       "        vertical-align: middle;\n",
       "    }\n",
       "\n",
       "    .dataframe tbody tr th {\n",
       "        vertical-align: top;\n",
       "    }\n",
       "\n",
       "    .dataframe thead tr th {\n",
       "        text-align: left;\n",
       "    }\n",
       "\n",
       "    .dataframe thead tr:last-of-type th {\n",
       "        text-align: right;\n",
       "    }\n",
       "</style>\n",
       "<table border=\"1\" class=\"dataframe\">\n",
       "  <thead>\n",
       "    <tr>\n",
       "      <th></th>\n",
       "      <th colspan=\"2\" halign=\"left\">Total</th>\n",
       "    </tr>\n",
       "    <tr>\n",
       "      <th>Gender</th>\n",
       "      <th>Female</th>\n",
       "      <th>Male</th>\n",
       "    </tr>\n",
       "    <tr>\n",
       "      <th>Product line</th>\n",
       "      <th></th>\n",
       "      <th></th>\n",
       "    </tr>\n",
       "  </thead>\n",
       "  <tbody>\n",
       "    <tr>\n",
       "      <th>Electronic accessories</th>\n",
       "      <td>27102.0225</td>\n",
       "      <td>27235.5090</td>\n",
       "    </tr>\n",
       "    <tr>\n",
       "      <th>Fashion accessories</th>\n",
       "      <td>30437.4000</td>\n",
       "      <td>23868.4950</td>\n",
       "    </tr>\n",
       "    <tr>\n",
       "      <th>Food and beverages</th>\n",
       "      <td>33170.9175</td>\n",
       "      <td>22973.9265</td>\n",
       "    </tr>\n",
       "    <tr>\n",
       "      <th>Health and beauty</th>\n",
       "      <td>18560.9865</td>\n",
       "      <td>30632.7525</td>\n",
       "    </tr>\n",
       "    <tr>\n",
       "      <th>Home and lifestyle</th>\n",
       "      <td>30036.8775</td>\n",
       "      <td>23825.0355</td>\n",
       "    </tr>\n",
       "    <tr>\n",
       "      <th>Sports and travel</th>\n",
       "      <td>28574.7210</td>\n",
       "      <td>26548.1055</td>\n",
       "    </tr>\n",
       "  </tbody>\n",
       "</table>\n",
       "</div>"
      ],
      "text/plain": [
       "                             Total            \n",
       "Gender                      Female        Male\n",
       "Product line                                  \n",
       "Electronic accessories  27102.0225  27235.5090\n",
       "Fashion accessories     30437.4000  23868.4950\n",
       "Food and beverages      33170.9175  22973.9265\n",
       "Health and beauty       18560.9865  30632.7525\n",
       "Home and lifestyle      30036.8775  23825.0355\n",
       "Sports and travel       28574.7210  26548.1055"
      ]
     },
     "execution_count": 30,
     "metadata": {},
     "output_type": "execute_result"
    }
   ],
   "source": [
    "df_data.groupby([\"Product line\", \"Gender\"])[[\"Total\"]].sum().pivot_table(index=\"Product line\", columns=\"Gender\")"
   ]
  },
  {
   "cell_type": "markdown",
   "id": "67e1bed8-b53a-4500-ad22-0fa367ef3021",
   "metadata": {},
   "source": [
    "<h3>4. What was the revenue for the month?/ Qual foi o faturamento do mês?</h3>"
   ]
  },
  {
   "cell_type": "code",
   "execution_count": 34,
   "id": "588dca01-0a34-459c-b43a-4c8f7b669c1c",
   "metadata": {},
   "outputs": [],
   "source": [
    "df_data[\"Date\"] = pd.to_datetime(df_data[\"Date\"])\n",
    "df_data[\"Month\"] = df_data[\"Date\"].apply(lambda x: x.month)\n",
    "df_data[\"Year\"] = df_data[\"Date\"].apply(lambda x: x.year)"
   ]
  },
  {
   "cell_type": "code",
   "execution_count": 39,
   "id": "d6555954-b09d-4321-943b-a557bc59d133",
   "metadata": {},
   "outputs": [
    {
     "data": {
      "text/plain": [
       "Month  Year\n",
       "1      2019    116291.868\n",
       "2      2019     97219.374\n",
       "3      2019    109455.507\n",
       "Name: Total, dtype: float64"
      ]
     },
     "execution_count": 39,
     "metadata": {},
     "output_type": "execute_result"
    }
   ],
   "source": [
    "df_data.groupby([\"Month\",\"Year\"])[\"Total\"].sum()"
   ]
  },
  {
   "cell_type": "markdown",
   "id": "314c435b-17df-407f-a020-cef5be83824a",
   "metadata": {},
   "source": [
    "<h3>5. What was the average rating for each branch in January 2019?/ Qual foi a média de avaliação por cada filial em Janeiro de 2019?</h3>"
   ]
  },
  {
   "cell_type": "code",
   "execution_count": 50,
   "id": "5a8bb94c-a4d2-46dc-ab12-46c25729f8f5",
   "metadata": {},
   "outputs": [
    {
     "data": {
      "text/plain": [
       "Branch\n",
       "A    7.078151\n",
       "B    6.801802\n",
       "C    7.154918\n",
       "Name: Rating, dtype: float64"
      ]
     },
     "execution_count": 50,
     "metadata": {},
     "output_type": "execute_result"
    }
   ],
   "source": [
    "df_data[(df_data[\"Year\"] == 2019) & (df_data[\"Month\"] == 1)].groupby(\"Branch\")[\"Rating\"].mean()"
   ]
  },
  {
   "cell_type": "markdown",
   "id": "d32b8e8b-6969-4913-9f51-7b5df1b8adfe",
   "metadata": {},
   "source": [
    "<h3>6. How is the spending distributed by consumer type at each branch?/ Como se distribui o gasto por tipo de consumidor em cada filial?</h3>"
   ]
  },
  {
   "cell_type": "code",
   "execution_count": 52,
   "id": "e9fa3fb1-2f13-45b6-8fdc-105989a3ab90",
   "metadata": {},
   "outputs": [
    {
     "data": {
      "text/plain": [
       "Customer type  Branch\n",
       "Member         A         53637.4755\n",
       "               B         53704.6860\n",
       "               C         56881.2825\n",
       "Normal         A         52562.8950\n",
       "               B         52492.9860\n",
       "               C         53687.4240\n",
       "Name: Total, dtype: float64"
      ]
     },
     "execution_count": 52,
     "metadata": {},
     "output_type": "execute_result"
    }
   ],
   "source": [
    "df_data.groupby([\"Customer type\", \"Branch\"])[\"Total\"].sum()"
   ]
  },
  {
   "cell_type": "code",
   "execution_count": null,
   "id": "f13f4d49-3aba-4755-9481-9c12dac9763f",
   "metadata": {},
   "outputs": [],
   "source": []
  }
 ],
 "metadata": {
  "kernelspec": {
   "display_name": "Python 3 (ipykernel)",
   "language": "python",
   "name": "python3"
  },
  "language_info": {
   "codemirror_mode": {
    "name": "ipython",
    "version": 3
   },
   "file_extension": ".py",
   "mimetype": "text/x-python",
   "name": "python",
   "nbconvert_exporter": "python",
   "pygments_lexer": "ipython3",
   "version": "3.8.8"
  }
 },
 "nbformat": 4,
 "nbformat_minor": 5
}
