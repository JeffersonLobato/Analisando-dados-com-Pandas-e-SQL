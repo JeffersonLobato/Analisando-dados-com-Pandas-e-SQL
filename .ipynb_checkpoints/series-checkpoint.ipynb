{
 "cells": [
  {
   "cell_type": "markdown",
   "id": "8308fc57-8817-4160-93a4-00f22876a049",
   "metadata": {},
   "source": [
    "<h1>Series</h1>\n",
    "\n",
    "<p>Pandas works with Data Frames, which are tables similar to Excel spreadsheets, and each column in this table is called a Series.</p>\n",
    "\n",
    "<p>O pandas trabalha com Data Frames, que são tabelas parecidas com tabelas do Excel, cada coluna dessa tabela é chamada de Series.</p>"
   ]
  },
  {
   "cell_type": "code",
   "execution_count": 3,
   "id": "82b4f551-8c1b-4fd9-ad3d-21fd6e090ddf",
   "metadata": {},
   "outputs": [],
   "source": [
    "import pandas as pd\n",
    "import numpy as np \n",
    "#Numpy is a Python library for numerical computing that provides support for arrays and matrices."
   ]
  },
  {
   "cell_type": "code",
   "execution_count": 4,
   "id": "955fb9b0-6ae6-4938-88bb-6cb0135ad685",
   "metadata": {},
   "outputs": [],
   "source": [
    "labels = ['a', 'b' , 'c']\n",
    "my_list = [10, 20, 30]\n",
    "arr = np.array([10, 20, 30])\n",
    "my_dictionary = {'a': 10, 'b': 20, 'c': 30}"
   ]
  },
  {
   "cell_type": "code",
   "execution_count": 5,
   "id": "e3cdb555-e581-488f-9a43-7649d777ae7e",
   "metadata": {},
   "outputs": [
    {
     "data": {
      "text/plain": [
       "0    a\n",
       "1    b\n",
       "2    c\n",
       "dtype: object"
      ]
     },
     "execution_count": 5,
     "metadata": {},
     "output_type": "execute_result"
    }
   ],
   "source": [
    "#Pandas takes a list and creates a series with it, placing an index next to each one.\n",
    "pd.Series(labels)"
   ]
  },
  {
   "cell_type": "code",
   "execution_count": 6,
   "id": "1e8e9f42-4ef1-4f31-97e4-abe784ee1c87",
   "metadata": {},
   "outputs": [
    {
     "data": {
      "text/plain": [
       "10    a\n",
       "20    b\n",
       "30    c\n",
       "dtype: object"
      ]
     },
     "execution_count": 6,
     "metadata": {},
     "output_type": "execute_result"
    }
   ],
   "source": [
    "#I can tell Pandas how I want the index to be.\n",
    "pd.Series(data=labels, index=my_list)"
   ]
  },
  {
   "cell_type": "code",
   "execution_count": 7,
   "id": "fbcf7a45-c5b8-4e4d-867c-51eb9575fa73",
   "metadata": {},
   "outputs": [
    {
     "data": {
      "text/plain": [
       "a    10\n",
       "b    20\n",
       "c    30\n",
       "dtype: int64"
      ]
     },
     "execution_count": 7,
     "metadata": {},
     "output_type": "execute_result"
    }
   ],
   "source": [
    "#When I pass a dictionary, Pandas understands that the key is the index and the value is the element of the Series.\n",
    "pd.Series(my_dictionary)"
   ]
  },
  {
   "cell_type": "code",
   "execution_count": 9,
   "id": "6395db61-385c-46d6-b17d-e317d0431949",
   "metadata": {},
   "outputs": [
    {
     "data": {
      "text/plain": [
       "EUA       1\n",
       "BRAZIL    2\n",
       "JAPAN     3\n",
       "ITALY     4\n",
       "dtype: int64"
      ]
     },
     "execution_count": 9,
     "metadata": {},
     "output_type": "execute_result"
    }
   ],
   "source": [
    "#I can create Series in the following way.\n",
    "serie1 = pd.Series([1,2,3,4], index=['EUA', 'BRAZIL', 'JAPAN', 'ITALY'])\n",
    "serie1"
   ]
  },
  {
   "cell_type": "code",
   "execution_count": 10,
   "id": "341b09d9-a44c-4ee2-bd90-78d4c92778e4",
   "metadata": {},
   "outputs": [
    {
     "data": {
      "text/plain": [
       "EUA       1\n",
       "BRAZIL    2\n",
       "FRANCE    5\n",
       "ITALY     4\n",
       "dtype: int64"
      ]
     },
     "execution_count": 10,
     "metadata": {},
     "output_type": "execute_result"
    }
   ],
   "source": [
    "serie2 = pd.Series([1,2,5,4], index=['EUA', 'BRAZIL', 'FRANCE', 'ITALY'])\n",
    "serie2"
   ]
  },
  {
   "cell_type": "code",
   "execution_count": 15,
   "id": "01183c9a-7f8c-4534-b222-ce10a56656d5",
   "metadata": {},
   "outputs": [
    {
     "data": {
      "text/plain": [
       "1"
      ]
     },
     "execution_count": 15,
     "metadata": {},
     "output_type": "execute_result"
    }
   ],
   "source": [
    "#I can access the element by the index.\n",
    "serie1['EUA']"
   ]
  },
  {
   "cell_type": "code",
   "execution_count": 16,
   "id": "039942c6-f145-4ed6-aeab-a59906849643",
   "metadata": {},
   "outputs": [
    {
     "data": {
      "text/plain": [
       "BRAZIL    2\n",
       "FRANCE    5\n",
       "dtype: int64"
      ]
     },
     "execution_count": 16,
     "metadata": {},
     "output_type": "execute_result"
    }
   ],
   "source": [
    "serie2[['BRAZIL','FRANCE']]"
   ]
  },
  {
   "cell_type": "code",
   "execution_count": 18,
   "id": "ba7991ea-1f31-4a2f-80df-b8f7443e0a58",
   "metadata": {},
   "outputs": [
    {
     "data": {
      "text/plain": [
       "BRAZIL    4.0\n",
       "EUA       2.0\n",
       "FRANCE    NaN\n",
       "ITALY     8.0\n",
       "JAPAN     NaN\n",
       "dtype: float64"
      ]
     },
     "execution_count": 18,
     "metadata": {},
     "output_type": "execute_result"
    }
   ],
   "source": [
    "#I can perform arithmetic operations with the Series.\n",
    "#It works with values that have matching indices, and indices without a match are assigned a null value.\n",
    "serie1 + serie2"
   ]
  },
  {
   "cell_type": "code",
   "execution_count": null,
   "id": "91897c99-97a1-4b83-9802-4a1edf2dfc2f",
   "metadata": {},
   "outputs": [],
   "source": []
  }
 ],
 "metadata": {
  "kernelspec": {
   "display_name": "Python 3 (ipykernel)",
   "language": "python",
   "name": "python3"
  },
  "language_info": {
   "codemirror_mode": {
    "name": "ipython",
    "version": 3
   },
   "file_extension": ".py",
   "mimetype": "text/x-python",
   "name": "python",
   "nbconvert_exporter": "python",
   "pygments_lexer": "ipython3",
   "version": "3.8.8"
  }
 },
 "nbformat": 4,
 "nbformat_minor": 5
}
